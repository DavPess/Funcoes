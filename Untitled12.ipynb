{
  "nbformat": 4,
  "nbformat_minor": 0,
  "metadata": {
    "colab": {
      "provenance": [],
      "authorship_tag": "ABX9TyNKAwP24Jps9oVIe3flshXc",
      "include_colab_link": true
    },
    "kernelspec": {
      "name": "python3",
      "display_name": "Python 3"
    },
    "language_info": {
      "name": "python"
    }
  },
  "cells": [
    {
      "cell_type": "markdown",
      "metadata": {
        "id": "view-in-github",
        "colab_type": "text"
      },
      "source": [
        "<a href=\"https://colab.research.google.com/github/DavPess/Funcoes/blob/main/Untitled12.ipynb\" target=\"_parent\"><img src=\"https://colab.research.google.com/assets/colab-badge.svg\" alt=\"Open In Colab\"/></a>"
      ]
    },
    {
      "cell_type": "code",
      "execution_count": 35,
      "metadata": {
        "colab": {
          "base_uri": "https://localhost:8080/"
        },
        "id": "WeqzVQsoOO2K",
        "outputId": "b1d70fd3-9a9b-4242-a852-896b2e69d534"
      },
      "outputs": [
        {
          "name": "stdout",
          "output_type": "stream",
          "text": [
            "Digite um numero: 10\n",
            "Digite um numero: 10\n"
          ]
        },
        {
          "output_type": "execute_result",
          "data": {
            "text/plain": [
              "100"
            ]
          },
          "metadata": {},
          "execution_count": 35
        }
      ],
      "source": [
        "#FUNÇÕES PYTHON IMPACTA\n",
        "\n",
        "# Para declarar uma função tem que colocar def <nome da função>([<parametros>]):\n",
        "          #<bloco de código da função>\n",
        "          #return encerra a execução da função\n",
        "\n",
        "def somar(n1, n2):\n",
        "   return n1 + n2 \n",
        "n1 = int(input(\"Digite um numero: \"))\n",
        "n2 = int(input(\"Digite um numero: \"))\n",
        "somar(n1, n2)\n",
        "\n"
      ]
    },
    {
      "cell_type": "code",
      "source": [
        "#IF fora\n",
        "\n",
        "def pede_idade(mensagem):\n",
        "  idade = int(input(mensagem))\n",
        "  return idade\n",
        "idade = pede_idade(\"Digite sua idade: \")\n",
        "if idade > 18:\n",
        "  print(\"Você tem mais de 18 anos\")\n",
        "else:\n",
        "  print(\"Você tem menos de 18 anos\")\n",
        "print(\"FIM\")\n"
      ],
      "metadata": {
        "id": "WacLkQJTSKqP"
      },
      "execution_count": null,
      "outputs": []
    },
    {
      "cell_type": "code",
      "source": [
        "#IF dentro da função\n",
        "\n",
        "def pede_idade(mensagem):\n",
        "  idade = int(input(mensagem))\n",
        "  if idade > 18:\n",
        "    print(\"Você tem mais de 18 anos\")\n",
        "  else:\n",
        "    print(\"Você tem menos de 18 anos\")\n",
        "\n",
        "idade = pede_idade(\"Digite sua idade: \")   \n",
        "print(\"FIM\")"
      ],
      "metadata": {
        "id": "4Um8tALNYGzY"
      },
      "execution_count": null,
      "outputs": []
    },
    {
      "cell_type": "code",
      "source": [
        "# def soma (n1, n2):\n",
        "#   s = n1 + n2\n",
        "#   return soma\n",
        "imprime = print\n",
        "#retorna todo conteúdo declarado dentro da variável\n",
        "imprime(\"Programando em português!\")        "
      ],
      "metadata": {
        "colab": {
          "base_uri": "https://localhost:8080/"
        },
        "id": "jivhNq2pfsCK",
        "outputId": "576d0744-9152-450d-b9d4-b1610f9ac2c7"
      },
      "execution_count": 44,
      "outputs": [
        {
          "output_type": "stream",
          "name": "stdout",
          "text": [
            "Programando em português!\n"
          ]
        }
      ]
    },
    {
      "cell_type": "code",
      "source": [
        "def soma(n1, n2):\n",
        "  s = n1 + n2\n",
        "  return s\n",
        "print(soma(3, 5)) "
      ],
      "metadata": {
        "colab": {
          "base_uri": "https://localhost:8080/"
        },
        "id": "WVkngUBdhwYE",
        "outputId": "dd33dbba-7f3a-444c-c427-9e8bb11cb8c2"
      },
      "execution_count": 52,
      "outputs": [
        {
          "output_type": "stream",
          "name": "stdout",
          "text": [
            "8\n"
          ]
        }
      ]
    },
    {
      "cell_type": "code",
      "source": [
        "#CALCULANDO A MEDIA COM FUNÇÃO\n",
        "\n",
        "\n",
        "def media(a, b, c):\n",
        "  return (a+b+c)/3\n",
        "x = 5\n",
        "y = 15\n",
        "z = 40\n",
        "print(media(x, y, z))"
      ],
      "metadata": {
        "id": "Gkgx-SvnjOCE"
      },
      "execution_count": null,
      "outputs": []
    },
    {
      "cell_type": "code",
      "source": [
        "#VERIFICANDO SE O VALOR É PAR COM FUNÇÃO\n",
        "\n",
        "def par(n):\n",
        "  if n % 2 == 0:\n",
        "    return True\n",
        "  else:\n",
        "    return False\n",
        "print(f\"{4} é par? {par(4)}\")\n",
        "print(f\"{7} é par? {par(7)}\")"
      ],
      "metadata": {
        "id": "HcAzNM7kk1Ld"
      },
      "execution_count": null,
      "outputs": []
    }
  ]
}